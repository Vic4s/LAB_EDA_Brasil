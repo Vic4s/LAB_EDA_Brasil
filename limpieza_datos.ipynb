{
 "cells": [
  {
   "cell_type": "code",
   "execution_count": 19,
   "metadata": {},
   "outputs": [],
   "source": [
    "# Tratamiento de datos\n",
    "# -----------------------------------------------------------------------\n",
    "import pandas as pd\n",
    "import numpy as np\n",
    "\n",
    "\n",
    "# Configuración\n",
    "# -----------------------------------------------------------------------\n",
    "pd.set_option('display.max_columns', None) \n",
    "# para poder visualizar todas las columnas de los DataFrames\n",
    "\n",
    "\n",
    "# Ignorar warnings\n",
    "# ==============================================================================\n",
    "import warnings\n",
    "warnings.filterwarnings(\"ignore\")\n",
    "\n",
    "\n",
    "# Para gestión de fechas\n",
    "# -----------------------------------------------------------------------\n",
    "from datetime import datetime\n",
    "\n",
    "\n",
    "# Para guardar DataFrames en Excel\n",
    "# -----------------------------------------------------------------------\n",
    "from pandas import ExcelWriter\n",
    "\n",
    "\n",
    "# Para generar todas las posibles combinaciones\n",
    "# -----------------------------------------------------------------------\n",
    "import itertools\n",
    "\n",
    "\n",
    "# Importar nuestras funciones\n",
    "# -----------------------------------------------------------------------\n",
    "from src import soporte_eda as se\n"
   ]
  },
  {
   "cell_type": "code",
   "execution_count": 20,
   "metadata": {},
   "outputs": [],
   "source": [
    "# Cargar el DataFrame consolidado desde la Fase 1\n",
    "df_consolidado = pd.read_csv(\"datos_consolidados.csv\", sep=';', encoding='utf-8')\n"
   ]
  },
  {
   "cell_type": "code",
   "execution_count": 21,
   "metadata": {},
   "outputs": [
    {
     "name": "stdout",
     "output_type": "stream",
     "text": [
      "\n",
      "Reporte inicial de valores nulos:\n",
      "                            Numero_nulos  Porcentaje_nulos Tipo_dato\n",
      "CÓDIGO ÓRGÃO SUPERIOR                  0              0.00     int64\n",
      "NOMBRE ÓRGANO SUPERIOR                 0              0.00    object\n",
      "CÓDIGO ÓRGANO                          0              0.00     int64\n",
      "NOMBRE ÓRGANO                          0              0.00    object\n",
      "CÓDIGO UNIDAD GESTORA                  0              0.00     int64\n",
      "NOMBRE UNIDAD GESTORA                  0              0.00    object\n",
      "CATEGORÍA ECONÓMICA                    0              0.00    object\n",
      "ORIGEN INGRESO                         0              0.00    object\n",
      "TIPO INGRESO                           0              0.00    object\n",
      "DETALLE                                0              0.00    object\n",
      "VALOR PREVISTO ACTUALIZADO             0              0.00   float64\n",
      "VALOR LANZADO                          0              0.00   float64\n",
      "VALOR REALIZADO                        0              0.00   float64\n",
      "PORCENTAJE REALIZADO                   0              0.00    object\n",
      "FECHA LANZAMIENTO                    578              0.06    object\n",
      "AÑO EJERCICIO                          0              0.00     int64\n"
     ]
    }
   ],
   "source": [
    "# Identificar y manejar valores nulos\n",
    "print(\"\\nReporte inicial de valores nulos:\")\n",
    "reporte_nulos = se.generar_reporte_nulos(df_consolidado)\n",
    "print(reporte_nulos)"
   ]
  },
  {
   "cell_type": "code",
   "execution_count": 22,
   "metadata": {},
   "outputs": [],
   "source": [
    "df_consolidado['PORCENTAJE REALIZADO'] = df_consolidado['PORCENTAJE REALIZADO'].fillna(0)\n",
    "df_consolidado['VALOR PREVISTO ACTUALIZADO'] = df_consolidado['VALOR PREVISTO ACTUALIZADO'].fillna(0)\n",
    "df_consolidado['VALOR LANZADO'] = df_consolidado['VALOR LANZADO'].fillna(0)\n",
    "df_consolidado['VALOR REALIZADO'] = df_consolidado['VALOR REALIZADO'].fillna(0)\n",
    "df_consolidado['CATEGORÍA ECONÓMICA'] = df_consolidado['CATEGORÍA ECONÓMICA'].fillna(\"DESCONOCIDO\")\n",
    "df_consolidado['ORIGEN INGRESO'] = df_consolidado['ORIGEN INGRESO'].fillna(\"DESCONOCIDO\")\n",
    "df_consolidado['TIPO INGRESO'] = df_consolidado['TIPO INGRESO'].fillna(\"DESCONOCIDO\")\n",
    "df_consolidado['DETALLE'] = df_consolidado['DETALLE'].fillna(\"DESCONOCIDO\")\n",
    "df_consolidado['AÑO EJERCICIO'] = df_consolidado['AÑO EJERCICIO'].fillna(np.nan)"
   ]
  },
  {
   "cell_type": "code",
   "execution_count": 23,
   "metadata": {},
   "outputs": [
    {
     "name": "stdout",
     "output_type": "stream",
     "text": [
      "Formato de fechas estandarizado.\n"
     ]
    }
   ],
   "source": [
    "# Estandarizar formatos de fechas\n",
    "df_consolidado['FECHA LANZAMIENTO'] = pd.to_datetime(df_consolidado['FECHA LANZAMIENTO'], errors='coerce')\n",
    "print(\"Formato de fechas estandarizado.\")"
   ]
  },
  {
   "cell_type": "code",
   "execution_count": 24,
   "metadata": {},
   "outputs": [
    {
     "name": "stdout",
     "output_type": "stream",
     "text": [
      "Fechas ausentes: DatetimeIndex(['2014-01-01', '2014-01-02', '2014-01-03', '2014-01-04',\n",
      "               '2014-01-05', '2014-01-06', '2014-01-07', '2014-01-08',\n",
      "               '2014-01-09', '2014-01-10',\n",
      "               ...\n",
      "               '2016-01-02', '2016-01-03', '2016-01-09', '2016-01-17',\n",
      "               '2016-01-24', '2016-05-08', '2020-03-29', '2020-12-25',\n",
      "               '2020-12-27', '2020-12-31'],\n",
      "              dtype='datetime64[ns]', length=738, freq=None)\n"
     ]
    }
   ],
   "source": [
    "# Verificar fechas ausentes en el rango\n",
    "fechas_ausentes = se.rango_fechas(df_consolidado, 'FECHA LANZAMIENTO')\n",
    "print(f\"Fechas ausentes: {fechas_ausentes}\")"
   ]
  },
  {
   "cell_type": "code",
   "execution_count": 25,
   "metadata": {},
   "outputs": [
    {
     "name": "stdout",
     "output_type": "stream",
     "text": [
      "Filas duplicadas encontradas: 0\n"
     ]
    }
   ],
   "source": [
    "# Verificar y eliminar duplicados\n",
    "duplicados = df_consolidado.duplicated().sum()\n",
    "print(f\"Filas duplicadas encontradas: {duplicados}\")\n",
    "\n",
    "if duplicados > 0:\n",
    "    df_consolidado = df_consolidado.drop_duplicates()\n",
    "    print(f\"Filas duplicadas eliminadas. Total de filas ahora: {len(df_consolidado)}\")\n"
   ]
  },
  {
   "cell_type": "code",
   "execution_count": 26,
   "metadata": {},
   "outputs": [],
   "source": [
    "# Corregir inconsistencias en categorías económicas\n",
    "# Convertir texto a minúsculas y eliminar espacios adicionales\n",
    "df_consolidado['CATEGORÍA ECONÓMICA'] = df_consolidado['CATEGORÍA ECONÓMICA'].str.strip().str.lower()\n",
    "df_consolidado['ORIGEN INGRESO'] = df_consolidado['ORIGEN INGRESO'].str.strip().str.lower()\n",
    "df_consolidado['TIPO INGRESO'] = df_consolidado['TIPO INGRESO'].str.strip().str.lower()\n",
    "df_consolidado['DETALLE'] = df_consolidado['DETALLE'].str.strip().str.lower()"
   ]
  },
  {
   "cell_type": "code",
   "execution_count": 27,
   "metadata": {},
   "outputs": [
    {
     "name": "stdout",
     "output_type": "stream",
     "text": [
      "\n",
      "Información final del DataFrame limpio:\n",
      "<class 'pandas.core.frame.DataFrame'>\n",
      "RangeIndex: 1026299 entries, 0 to 1026298\n",
      "Data columns (total 16 columns):\n",
      " #   Column                      Non-Null Count    Dtype         \n",
      "---  ------                      --------------    -----         \n",
      " 0   CÓDIGO ÓRGÃO SUPERIOR       1026299 non-null  int64         \n",
      " 1   NOMBRE ÓRGANO SUPERIOR      1026299 non-null  object        \n",
      " 2   CÓDIGO ÓRGANO               1026299 non-null  int64         \n",
      " 3   NOMBRE ÓRGANO               1026299 non-null  object        \n",
      " 4   CÓDIGO UNIDAD GESTORA       1026299 non-null  int64         \n",
      " 5   NOMBRE UNIDAD GESTORA       1026299 non-null  object        \n",
      " 6   CATEGORÍA ECONÓMICA         1026299 non-null  object        \n",
      " 7   ORIGEN INGRESO              1026299 non-null  object        \n",
      " 8   TIPO INGRESO                1026299 non-null  object        \n",
      " 9   DETALLE                     1026299 non-null  object        \n",
      " 10  VALOR PREVISTO ACTUALIZADO  1026299 non-null  float64       \n",
      " 11  VALOR LANZADO               1026299 non-null  float64       \n",
      " 12  VALOR REALIZADO             1026299 non-null  float64       \n",
      " 13  PORCENTAJE REALIZADO        1026299 non-null  object        \n",
      " 14  FECHA LANZAMIENTO           1025721 non-null  datetime64[ns]\n",
      " 15  AÑO EJERCICIO               1026299 non-null  int64         \n",
      "dtypes: datetime64[ns](1), float64(3), int64(4), object(8)\n",
      "memory usage: 125.3+ MB\n",
      "None\n",
      "   CÓDIGO ÓRGÃO SUPERIOR    NOMBRE ÓRGANO SUPERIOR  CÓDIGO ÓRGANO  \\\n",
      "0                  63000  Advocacia-Geral da União          63000   \n",
      "1                  63000  Advocacia-Geral da União          63000   \n",
      "2                  63000  Advocacia-Geral da União          63000   \n",
      "3                  63000  Advocacia-Geral da União          63000   \n",
      "4                  63000  Advocacia-Geral da União          63000   \n",
      "\n",
      "                                       NOMBRE ÓRGANO  CÓDIGO UNIDAD GESTORA  \\\n",
      "0  Advocacia-Geral da União - Unidades com víncul...                 110060   \n",
      "1  Advocacia-Geral da União - Unidades com víncul...                 110060   \n",
      "2  Advocacia-Geral da União - Unidades com víncul...                 110060   \n",
      "3  Advocacia-Geral da União - Unidades com víncul...                 110060   \n",
      "4  Advocacia-Geral da União - Unidades com víncul...                 110060   \n",
      "\n",
      "                           NOMBRE UNIDAD GESTORA CATEGORÍA ECONÓMICA  \\\n",
      "0  COORD. GERAL DE ORC. FIN. E ANAL. CONT. - AGU  receitas correntes   \n",
      "1  COORD. GERAL DE ORC. FIN. E ANAL. CONT. - AGU  receitas correntes   \n",
      "2  COORD. GERAL DE ORC. FIN. E ANAL. CONT. - AGU  receitas correntes   \n",
      "3  COORD. GERAL DE ORC. FIN. E ANAL. CONT. - AGU  receitas correntes   \n",
      "4  COORD. GERAL DE ORC. FIN. E ANAL. CONT. - AGU  receitas correntes   \n",
      "\n",
      "              ORIGEN INGRESO                                   TIPO INGRESO  \\\n",
      "0  outras receitas correntes  bens, direitos e valores incorporados ao patr   \n",
      "1  outras receitas correntes    indenizações, restituições e ressarcimentos   \n",
      "2  outras receitas correntes  multas administrativas, contratuais e judicia   \n",
      "3  outras receitas correntes  bens, direitos e valores incorporados ao patr   \n",
      "4  outras receitas correntes    indenizações, restituições e ressarcimentos   \n",
      "\n",
      "                                         DETALLE  VALOR PREVISTO ACTUALIZADO  \\\n",
      "0  rec.divida ativa nao tributaria de outras rec                         0.0   \n",
      "1   recuperacao de despesas de exerc. anteriores                         0.0   \n",
      "2                  outras multas e juros de mora                         0.0   \n",
      "3      rec.div.ativa por infração administrativa                         0.0   \n",
      "4                            outras restituicoes                         0.0   \n",
      "\n",
      "   VALOR LANZADO  VALOR REALIZADO PORCENTAJE REALIZADO FECHA LANZAMIENTO  \\\n",
      "0            0.0          1297.13                 0,00        2013-12-31   \n",
      "1            0.0      26666621.42                 0,00        2013-12-31   \n",
      "2            0.0        301251.13                 0,00        2013-12-31   \n",
      "3            0.0          1855.58                 0,00        2013-12-31   \n",
      "4            0.0         52140.68                 0,00        2013-12-31   \n",
      "\n",
      "   AÑO EJERCICIO  \n",
      "0           2013  \n",
      "1           2013  \n",
      "2           2013  \n",
      "3           2013  \n",
      "4           2013  \n"
     ]
    }
   ],
   "source": [
    "# Verificar resultados finales de la limpieza\n",
    "print(\"\\nInformación final del DataFrame limpio:\")\n",
    "print(df_consolidado.info())\n",
    "print(df_consolidado.head())"
   ]
  }
 ],
 "metadata": {
  "kernelspec": {
   "display_name": "Python 3",
   "language": "python",
   "name": "python3"
  },
  "language_info": {
   "codemirror_mode": {
    "name": "ipython",
    "version": 3
   },
   "file_extension": ".py",
   "mimetype": "text/x-python",
   "name": "python",
   "nbconvert_exporter": "python",
   "pygments_lexer": "ipython3",
   "version": "3.12.5"
  }
 },
 "nbformat": 4,
 "nbformat_minor": 2
}
